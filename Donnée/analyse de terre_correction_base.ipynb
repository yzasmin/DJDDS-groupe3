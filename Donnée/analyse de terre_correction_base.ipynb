{
 "cells": [
  {
   "cell_type": "markdown",
   "id": "1bd32ee0-f24a-4e40-90c5-d5942768c948",
   "metadata": {},
   "source": [
    "# Titre docuement"
   ]
  },
  {
   "cell_type": "markdown",
   "id": "4ff67ff9-265a-41a7-9383-9b268bb19665",
   "metadata": {},
   "source": [
    "## 1) Importation des modules"
   ]
  },
  {
   "cell_type": "code",
   "execution_count": 4,
   "id": "fdccb1d2-2b07-4539-a74a-05523924456f",
   "metadata": {},
   "outputs": [],
   "source": [
    "import numpy as np\n",
    "import pandas as pd\n",
    "import matplotlib.pyplot as plt"
   ]
  },
  {
   "cell_type": "code",
   "execution_count": 5,
   "id": "ced38770-f7f4-4ea1-87c3-f504fa2623f9",
   "metadata": {},
   "outputs": [
    {
     "ename": "FileNotFoundError",
     "evalue": "[Errno 2] No such file or directory: 'analyse de terre.xlsx'",
     "output_type": "error",
     "traceback": [
      "\u001b[0;31m---------------------------------------------------------------------------\u001b[0m",
      "\u001b[0;31mFileNotFoundError\u001b[0m                         Traceback (most recent call last)",
      "Cell \u001b[0;32mIn[5], line 2\u001b[0m\n\u001b[1;32m      1\u001b[0m \u001b[38;5;66;03m#Importation du dataset\u001b[39;00m\n\u001b[0;32m----> 2\u001b[0m df \u001b[38;5;241m=\u001b[39m  pd\u001b[38;5;241m.\u001b[39mread_excel(\u001b[38;5;124m\"\u001b[39m\u001b[38;5;124manalyse de terre.xlsx\u001b[39m\u001b[38;5;124m\"\u001b[39m, )\n",
      "File \u001b[0;32m/opt/anaconda3/lib/python3.12/site-packages/pandas/io/excel/_base.py:495\u001b[0m, in \u001b[0;36mread_excel\u001b[0;34m(io, sheet_name, header, names, index_col, usecols, dtype, engine, converters, true_values, false_values, skiprows, nrows, na_values, keep_default_na, na_filter, verbose, parse_dates, date_parser, date_format, thousands, decimal, comment, skipfooter, storage_options, dtype_backend, engine_kwargs)\u001b[0m\n\u001b[1;32m    493\u001b[0m \u001b[38;5;28;01mif\u001b[39;00m \u001b[38;5;129;01mnot\u001b[39;00m \u001b[38;5;28misinstance\u001b[39m(io, ExcelFile):\n\u001b[1;32m    494\u001b[0m     should_close \u001b[38;5;241m=\u001b[39m \u001b[38;5;28;01mTrue\u001b[39;00m\n\u001b[0;32m--> 495\u001b[0m     io \u001b[38;5;241m=\u001b[39m ExcelFile(\n\u001b[1;32m    496\u001b[0m         io,\n\u001b[1;32m    497\u001b[0m         storage_options\u001b[38;5;241m=\u001b[39mstorage_options,\n\u001b[1;32m    498\u001b[0m         engine\u001b[38;5;241m=\u001b[39mengine,\n\u001b[1;32m    499\u001b[0m         engine_kwargs\u001b[38;5;241m=\u001b[39mengine_kwargs,\n\u001b[1;32m    500\u001b[0m     )\n\u001b[1;32m    501\u001b[0m \u001b[38;5;28;01melif\u001b[39;00m engine \u001b[38;5;129;01mand\u001b[39;00m engine \u001b[38;5;241m!=\u001b[39m io\u001b[38;5;241m.\u001b[39mengine:\n\u001b[1;32m    502\u001b[0m     \u001b[38;5;28;01mraise\u001b[39;00m \u001b[38;5;167;01mValueError\u001b[39;00m(\n\u001b[1;32m    503\u001b[0m         \u001b[38;5;124m\"\u001b[39m\u001b[38;5;124mEngine should not be specified when passing \u001b[39m\u001b[38;5;124m\"\u001b[39m\n\u001b[1;32m    504\u001b[0m         \u001b[38;5;124m\"\u001b[39m\u001b[38;5;124man ExcelFile - ExcelFile already has the engine set\u001b[39m\u001b[38;5;124m\"\u001b[39m\n\u001b[1;32m    505\u001b[0m     )\n",
      "File \u001b[0;32m/opt/anaconda3/lib/python3.12/site-packages/pandas/io/excel/_base.py:1550\u001b[0m, in \u001b[0;36mExcelFile.__init__\u001b[0;34m(self, path_or_buffer, engine, storage_options, engine_kwargs)\u001b[0m\n\u001b[1;32m   1548\u001b[0m     ext \u001b[38;5;241m=\u001b[39m \u001b[38;5;124m\"\u001b[39m\u001b[38;5;124mxls\u001b[39m\u001b[38;5;124m\"\u001b[39m\n\u001b[1;32m   1549\u001b[0m \u001b[38;5;28;01melse\u001b[39;00m:\n\u001b[0;32m-> 1550\u001b[0m     ext \u001b[38;5;241m=\u001b[39m inspect_excel_format(\n\u001b[1;32m   1551\u001b[0m         content_or_path\u001b[38;5;241m=\u001b[39mpath_or_buffer, storage_options\u001b[38;5;241m=\u001b[39mstorage_options\n\u001b[1;32m   1552\u001b[0m     )\n\u001b[1;32m   1553\u001b[0m     \u001b[38;5;28;01mif\u001b[39;00m ext \u001b[38;5;129;01mis\u001b[39;00m \u001b[38;5;28;01mNone\u001b[39;00m:\n\u001b[1;32m   1554\u001b[0m         \u001b[38;5;28;01mraise\u001b[39;00m \u001b[38;5;167;01mValueError\u001b[39;00m(\n\u001b[1;32m   1555\u001b[0m             \u001b[38;5;124m\"\u001b[39m\u001b[38;5;124mExcel file format cannot be determined, you must specify \u001b[39m\u001b[38;5;124m\"\u001b[39m\n\u001b[1;32m   1556\u001b[0m             \u001b[38;5;124m\"\u001b[39m\u001b[38;5;124man engine manually.\u001b[39m\u001b[38;5;124m\"\u001b[39m\n\u001b[1;32m   1557\u001b[0m         )\n",
      "File \u001b[0;32m/opt/anaconda3/lib/python3.12/site-packages/pandas/io/excel/_base.py:1402\u001b[0m, in \u001b[0;36minspect_excel_format\u001b[0;34m(content_or_path, storage_options)\u001b[0m\n\u001b[1;32m   1399\u001b[0m \u001b[38;5;28;01mif\u001b[39;00m \u001b[38;5;28misinstance\u001b[39m(content_or_path, \u001b[38;5;28mbytes\u001b[39m):\n\u001b[1;32m   1400\u001b[0m     content_or_path \u001b[38;5;241m=\u001b[39m BytesIO(content_or_path)\n\u001b[0;32m-> 1402\u001b[0m \u001b[38;5;28;01mwith\u001b[39;00m get_handle(\n\u001b[1;32m   1403\u001b[0m     content_or_path, \u001b[38;5;124m\"\u001b[39m\u001b[38;5;124mrb\u001b[39m\u001b[38;5;124m\"\u001b[39m, storage_options\u001b[38;5;241m=\u001b[39mstorage_options, is_text\u001b[38;5;241m=\u001b[39m\u001b[38;5;28;01mFalse\u001b[39;00m\n\u001b[1;32m   1404\u001b[0m ) \u001b[38;5;28;01mas\u001b[39;00m handle:\n\u001b[1;32m   1405\u001b[0m     stream \u001b[38;5;241m=\u001b[39m handle\u001b[38;5;241m.\u001b[39mhandle\n\u001b[1;32m   1406\u001b[0m     stream\u001b[38;5;241m.\u001b[39mseek(\u001b[38;5;241m0\u001b[39m)\n",
      "File \u001b[0;32m/opt/anaconda3/lib/python3.12/site-packages/pandas/io/common.py:882\u001b[0m, in \u001b[0;36mget_handle\u001b[0;34m(path_or_buf, mode, encoding, compression, memory_map, is_text, errors, storage_options)\u001b[0m\n\u001b[1;32m    873\u001b[0m         handle \u001b[38;5;241m=\u001b[39m \u001b[38;5;28mopen\u001b[39m(\n\u001b[1;32m    874\u001b[0m             handle,\n\u001b[1;32m    875\u001b[0m             ioargs\u001b[38;5;241m.\u001b[39mmode,\n\u001b[0;32m   (...)\u001b[0m\n\u001b[1;32m    878\u001b[0m             newline\u001b[38;5;241m=\u001b[39m\u001b[38;5;124m\"\u001b[39m\u001b[38;5;124m\"\u001b[39m,\n\u001b[1;32m    879\u001b[0m         )\n\u001b[1;32m    880\u001b[0m     \u001b[38;5;28;01melse\u001b[39;00m:\n\u001b[1;32m    881\u001b[0m         \u001b[38;5;66;03m# Binary mode\u001b[39;00m\n\u001b[0;32m--> 882\u001b[0m         handle \u001b[38;5;241m=\u001b[39m \u001b[38;5;28mopen\u001b[39m(handle, ioargs\u001b[38;5;241m.\u001b[39mmode)\n\u001b[1;32m    883\u001b[0m     handles\u001b[38;5;241m.\u001b[39mappend(handle)\n\u001b[1;32m    885\u001b[0m \u001b[38;5;66;03m# Convert BytesIO or file objects passed with an encoding\u001b[39;00m\n",
      "\u001b[0;31mFileNotFoundError\u001b[0m: [Errno 2] No such file or directory: 'analyse de terre.xlsx'"
     ]
    }
   ],
   "source": [
    "#Importation du dataset\n",
    "df =  pd.read_excel(\"analyse de terre.xlsx\", )\n",
    "\n",
    "#Modification sur excel pour reliée les différentes données car séparation de lignes avec des dossiers"
   ]
  },
  {
   "cell_type": "markdown",
   "id": "4cd9c76d-91e6-43e5-bcd0-eee7d0d72935",
   "metadata": {},
   "source": [
    "## 2) Exploration des données"
   ]
  },
  {
   "cell_type": "code",
   "execution_count": null,
   "id": "bb4db308-2bbf-4304-a04f-a5d113a4aa48",
   "metadata": {},
   "outputs": [],
   "source": [
    "# Affiche le nombre de colonnes et lignes\n",
    "df.shape"
   ]
  },
  {
   "cell_type": "code",
   "execution_count": null,
   "id": "d9b4da56-b237-4570-93b6-c2ffbeba799e",
   "metadata": {},
   "outputs": [],
   "source": [
    "# Affiche les 5 premières lignes\n",
    "df.head()"
   ]
  },
  {
   "cell_type": "code",
   "execution_count": null,
   "id": "54d1193d-06e1-4f74-8b43-db3290b1eec9",
   "metadata": {},
   "outputs": [],
   "source": [
    "# Nom des colonnes\n",
    "df.columns"
   ]
  },
  {
   "cell_type": "code",
   "execution_count": null,
   "id": "d5e7c68e-a47d-4ea5-8e4d-08dea6b7e180",
   "metadata": {},
   "outputs": [],
   "source": [
    "# Type des données\n",
    "df.dtypes"
   ]
  },
  {
   "cell_type": "code",
   "execution_count": 11,
   "id": "baab0e8b-a87d-4fc7-a62c-2ad2bc5033c6",
   "metadata": {},
   "outputs": [
    {
     "ename": "NameError",
     "evalue": "name 'df' is not defined",
     "output_type": "error",
     "traceback": [
      "\u001b[0;31m---------------------------------------------------------------------------\u001b[0m",
      "\u001b[0;31mNameError\u001b[0m                                 Traceback (most recent call last)",
      "Cell \u001b[0;32mIn[11], line 1\u001b[0m\n\u001b[0;32m----> 1\u001b[0m df[\u001b[38;5;124m'\u001b[39m\u001b[38;5;124m Sable Grossier (déc) (o/oo) g/kg \u001b[39m\u001b[38;5;124m'\u001b[39m]\u001b[38;5;241m.\u001b[39mvalue_counts()\n",
      "\u001b[0;31mNameError\u001b[0m: name 'df' is not defined"
     ]
    }
   ],
   "source": [
    "df[' Sable Grossier (déc) (o/oo) g/kg '].value_counts()"
   ]
  },
  {
   "cell_type": "code",
   "execution_count": 13,
   "id": "32d4f1dd-7c66-43a9-b2fc-649df7f29305",
   "metadata": {},
   "outputs": [
    {
     "ename": "NameError",
     "evalue": "name 'df' is not defined",
     "output_type": "error",
     "traceback": [
      "\u001b[0;31m---------------------------------------------------------------------------\u001b[0m",
      "\u001b[0;31mNameError\u001b[0m                                 Traceback (most recent call last)",
      "Cell \u001b[0;32mIn[13], line 15\u001b[0m\n\u001b[1;32m     12\u001b[0m         \u001b[38;5;28;01mreturn\u001b[39;00m \u001b[38;5;28;01mNone\u001b[39;00m  \u001b[38;5;66;03m# Si ce n'est pas convertible, remplacer par NaN ou None\u001b[39;00m\n\u001b[1;32m     14\u001b[0m \u001b[38;5;66;03m# Appliquer la fonction pour convertir ou remplacer les valeurs problématiques\u001b[39;00m\n\u001b[0;32m---> 15\u001b[0m df[\u001b[38;5;124m'\u001b[39m\u001b[38;5;124m Sable Grossier (déc) (o/oo) g/kg \u001b[39m\u001b[38;5;124m'\u001b[39m] \u001b[38;5;241m=\u001b[39m df[\u001b[38;5;124m'\u001b[39m\u001b[38;5;124m Sable Grossier (déc) (o/oo) g/kg \u001b[39m\u001b[38;5;124m'\u001b[39m]\u001b[38;5;241m.\u001b[39mapply(convertir_ou_remplacer)\n\u001b[1;32m     17\u001b[0m \u001b[38;5;66;03m# Afficher le DataFrame après traitement\u001b[39;00m\n\u001b[1;32m     18\u001b[0m \u001b[38;5;28mprint\u001b[39m(df)\n",
      "\u001b[0;31mNameError\u001b[0m: name 'df' is not defined"
     ]
    }
   ],
   "source": [
    "# Fonction pour nettoyer les données et les convertir en float\n",
    "def convertir_ou_remplacer(val):\n",
    "    # Convertir chaque valeur en chaîne pour éviter des erreurs de type\n",
    "    val_str = str(val)\n",
    "    try:\n",
    "        # Retirer les symboles comme \"<\" ou \">\", puis convertir en float\n",
    "        if '<' in val_str:\n",
    "            # Si on trouve un symbole \"<\", on prend la valeur numérique après et la transforme en float\n",
    "            return float(val_str.replace('<', '').strip())\n",
    "        return float(val_str)  # Tenter une conversion directe\n",
    "    except ValueError:\n",
    "        return None  # Si ce n'est pas convertible, remplacer par NaN ou None\n",
    "\n",
    "# Appliquer la fonction pour convertir ou remplacer les valeurs problématiques\n",
    "df[' Sable Grossier (déc) (o/oo) g/kg '] = df[' Sable Grossier (déc) (o/oo) g/kg '].apply(convertir_ou_remplacer)\n",
    "\n",
    "# Afficher le DataFrame après traitement\n",
    "print(df)"
   ]
  },
  {
   "cell_type": "code",
   "execution_count": 15,
   "id": "29606328-b085-4a7b-8720-6da9a76b0a0c",
   "metadata": {},
   "outputs": [
    {
     "ename": "NameError",
     "evalue": "name 'df' is not defined",
     "output_type": "error",
     "traceback": [
      "\u001b[0;31m---------------------------------------------------------------------------\u001b[0m",
      "\u001b[0;31mNameError\u001b[0m                                 Traceback (most recent call last)",
      "Cell \u001b[0;32mIn[15], line 1\u001b[0m\n\u001b[0;32m----> 1\u001b[0m df[\u001b[38;5;124m'\u001b[39m\u001b[38;5;124m Sable Grossier (déc) (o/oo) g/kg \u001b[39m\u001b[38;5;124m'\u001b[39m]\u001b[38;5;241m.\u001b[39mdtype\n",
      "\u001b[0;31mNameError\u001b[0m: name 'df' is not defined"
     ]
    }
   ],
   "source": [
    "df[' Sable Grossier (déc) (o/oo) g/kg '].dtype"
   ]
  },
  {
   "cell_type": "code",
   "execution_count": 17,
   "id": "a2b2970b-8ff8-438e-a6d0-c9ed31702704",
   "metadata": {},
   "outputs": [
    {
     "ename": "NameError",
     "evalue": "name 'df' is not defined",
     "output_type": "error",
     "traceback": [
      "\u001b[0;31m---------------------------------------------------------------------------\u001b[0m",
      "\u001b[0;31mNameError\u001b[0m                                 Traceback (most recent call last)",
      "Cell \u001b[0;32mIn[17], line 2\u001b[0m\n\u001b[1;32m      1\u001b[0m \u001b[38;5;66;03m# Nombre de valeurs dans chaque colonne\u001b[39;00m\n\u001b[0;32m----> 2\u001b[0m \u001b[38;5;28;01mfor\u001b[39;00m e \u001b[38;5;129;01min\u001b[39;00m df\u001b[38;5;241m.\u001b[39mcolumns:\n\u001b[1;32m      3\u001b[0m     \u001b[38;5;28mprint\u001b[39m(\u001b[38;5;28mstr\u001b[39m(e) \u001b[38;5;241m+\u001b[39m \u001b[38;5;124m\"\u001b[39m\u001b[38;5;124m : \u001b[39m\u001b[38;5;124m\"\u001b[39m\u001b[38;5;241m+\u001b[39m\u001b[38;5;28mstr\u001b[39m(\u001b[38;5;28mlen\u001b[39m(df[e]\u001b[38;5;241m.\u001b[39munique())))\n",
      "\u001b[0;31mNameError\u001b[0m: name 'df' is not defined"
     ]
    }
   ],
   "source": [
    "# Nombre de valeurs dans chaque colonne\n",
    "for e in df.columns:\n",
    "    print(str(e) + \" : \"+str(len(df[e].unique())))"
   ]
  },
  {
   "cell_type": "code",
   "execution_count": 19,
   "id": "16c54302-5583-408f-9003-7f2315851ea0",
   "metadata": {},
   "outputs": [
    {
     "ename": "NameError",
     "evalue": "name 'df' is not defined",
     "output_type": "error",
     "traceback": [
      "\u001b[0;31m---------------------------------------------------------------------------\u001b[0m",
      "\u001b[0;31mNameError\u001b[0m                                 Traceback (most recent call last)",
      "Cell \u001b[0;32mIn[19], line 2\u001b[0m\n\u001b[1;32m      1\u001b[0m \u001b[38;5;66;03m# Valeurs des différentes colonnes\u001b[39;00m\n\u001b[0;32m----> 2\u001b[0m \u001b[38;5;28;01mfor\u001b[39;00m e \u001b[38;5;129;01min\u001b[39;00m df\u001b[38;5;241m.\u001b[39mcolumns:\n\u001b[1;32m      3\u001b[0m     \u001b[38;5;28mprint\u001b[39m(df[e]\u001b[38;5;241m.\u001b[39munique())\n",
      "\u001b[0;31mNameError\u001b[0m: name 'df' is not defined"
     ]
    }
   ],
   "source": [
    "# Valeurs des différentes colonnes\n",
    "for e in df.columns:\n",
    "    print(df[e].unique())"
   ]
  },
  {
   "cell_type": "code",
   "execution_count": 21,
   "id": "1e18a35d-d3a1-4f1a-8e09-1921a57c56fd",
   "metadata": {},
   "outputs": [
    {
     "ename": "NameError",
     "evalue": "name 'df' is not defined",
     "output_type": "error",
     "traceback": [
      "\u001b[0;31m---------------------------------------------------------------------------\u001b[0m",
      "\u001b[0;31mNameError\u001b[0m                                 Traceback (most recent call last)",
      "Cell \u001b[0;32mIn[21], line 2\u001b[0m\n\u001b[1;32m      1\u001b[0m \u001b[38;5;66;03m# Statistiques des données\u001b[39;00m\n\u001b[0;32m----> 2\u001b[0m df\u001b[38;5;241m.\u001b[39mdescribe()\n",
      "\u001b[0;31mNameError\u001b[0m: name 'df' is not defined"
     ]
    }
   ],
   "source": [
    "# Statistiques des données\n",
    "df.describe()"
   ]
  },
  {
   "cell_type": "markdown",
   "id": "dcd432a4-03ee-4978-896f-751491403c7c",
   "metadata": {},
   "source": [
    "## 3) Nettoyage des données"
   ]
  },
  {
   "cell_type": "markdown",
   "id": "64271bbe-c770-46e5-90a2-429eab9cd0f0",
   "metadata": {},
   "source": [
    "#### Doublons"
   ]
  },
  {
   "cell_type": "code",
   "execution_count": 118,
   "id": "a3eaea79-709c-4d19-852d-14900261afd5",
   "metadata": {},
   "outputs": [
    {
     "data": {
      "text/plain": [
       "0"
      ]
     },
     "execution_count": 118,
     "metadata": {},
     "output_type": "execute_result"
    }
   ],
   "source": [
    "# Nombre de doublon dans le dataframe\n",
    "df.duplicated().sum()"
   ]
  },
  {
   "cell_type": "code",
   "execution_count": 120,
   "id": "3f0c626b-eb06-45dc-a74f-e2c7f158d6b2",
   "metadata": {},
   "outputs": [
    {
     "data": {
      "text/html": [
       "<div>\n",
       "<style scoped>\n",
       "    .dataframe tbody tr th:only-of-type {\n",
       "        vertical-align: middle;\n",
       "    }\n",
       "\n",
       "    .dataframe tbody tr th {\n",
       "        vertical-align: top;\n",
       "    }\n",
       "\n",
       "    .dataframe thead th {\n",
       "        text-align: right;\n",
       "    }\n",
       "</style>\n",
       "<table border=\"1\" class=\"dataframe\">\n",
       "  <thead>\n",
       "    <tr style=\"text-align: right;\">\n",
       "      <th></th>\n",
       "      <th>N° Laboratoire</th>\n",
       "      <th>Réf échantillon</th>\n",
       "      <th>N° FR</th>\n",
       "      <th>Exploitant - parcelle</th>\n",
       "      <th>Date de prélèvement</th>\n",
       "      <th>Nature</th>\n",
       "      <th>Argile (déc) (o/oo) g/kg</th>\n",
       "      <th>Limon Fin (déc) (o/oo) g/kg</th>\n",
       "      <th>Limon Grossier (déc) (o/oo) g/kg</th>\n",
       "      <th>Sable Fin (déc) (o/oo) g/kg</th>\n",
       "      <th>...</th>\n",
       "      <th>Azote total (o/oo) g/kg</th>\n",
       "      <th>C/N -</th>\n",
       "      <th>P2O5 Olsen (o/oo) g/kg</th>\n",
       "      <th>Cu DTPA mg/kg</th>\n",
       "      <th>Zn DTPA mg/kg</th>\n",
       "      <th>Ni DTPA mg/kg</th>\n",
       "      <th>Cu total ER (mg/Kg)</th>\n",
       "      <th>Ni total ER (mg/Kg)</th>\n",
       "      <th>Pb total ER (mg/Kg)</th>\n",
       "      <th>Zn total ER (mg/Kg)</th>\n",
       "    </tr>\n",
       "  </thead>\n",
       "  <tbody>\n",
       "  </tbody>\n",
       "</table>\n",
       "<p>0 rows × 25 columns</p>\n",
       "</div>"
      ],
      "text/plain": [
       "Empty DataFrame\n",
       "Columns: [N° Laboratoire, Réf échantillon, N° FR, Exploitant - parcelle, Date de prélèvement, Nature,  Argile (déc) (o/oo) g/kg ,  Limon Fin (déc) (o/oo) g/kg ,  Limon Grossier (déc) (o/oo) g/kg ,  Sable Fin (déc) (o/oo) g/kg ,  Sable Grossier (déc) (o/oo) g/kg ,  pH eau - ,  Carbonates totaux g/kg ,  Carb. organique (o/oo) g/kg ,  Matière organique (o/oo) g/kg ,  Azote total (o/oo) g/kg ,  C/N - ,  P2O5 Olsen (o/oo) g/kg ,  Cu DTPA mg/kg ,  Zn DTPA mg/kg ,  Ni DTPA mg/kg ,  Cu total ER (mg/Kg) ,  Ni total ER (mg/Kg) ,  Pb total ER (mg/Kg) ,  Zn total ER (mg/Kg) ]\n",
       "Index: []\n",
       "\n",
       "[0 rows x 25 columns]"
      ]
     },
     "execution_count": 120,
     "metadata": {},
     "output_type": "execute_result"
    }
   ],
   "source": [
    "# Ligne des doublons\n",
    "df[df.duplicated()]"
   ]
  },
  {
   "cell_type": "markdown",
   "id": "91b7c4f7-2ad8-48cc-9862-3db81634926c",
   "metadata": {},
   "source": [
    "#### Valeur manquante"
   ]
  },
  {
   "cell_type": "code",
   "execution_count": 123,
   "id": "1122e244-0ac7-41a7-bcc2-058018e05fa1",
   "metadata": {},
   "outputs": [
    {
     "data": {
      "text/plain": [
       "N° Laboratoire                        0\n",
       "Réf échantillon                       0\n",
       "N° FR                                 0\n",
       "Exploitant - parcelle                 0\n",
       "Date de prélèvement                   0\n",
       "Nature                                0\n",
       " Argile (déc) (o/oo) g/kg             0\n",
       " Limon Fin (déc) (o/oo) g/kg          0\n",
       " Limon Grossier (déc) (o/oo) g/kg     0\n",
       " Sable Fin (déc) (o/oo) g/kg          0\n",
       " Sable Grossier (déc) (o/oo) g/kg     0\n",
       " pH eau -                             0\n",
       " Carbonates totaux g/kg               0\n",
       " Carb. organique (o/oo) g/kg          0\n",
       " Matière organique (o/oo) g/kg        0\n",
       " Azote total (o/oo) g/kg              0\n",
       " C/N -                                0\n",
       " P2O5 Olsen (o/oo) g/kg               0\n",
       " Cu DTPA mg/kg                        0\n",
       " Zn DTPA mg/kg                        0\n",
       " Ni DTPA mg/kg                        0\n",
       " Cu total ER (mg/Kg)                  0\n",
       " Ni total ER (mg/Kg)                  0\n",
       " Pb total ER (mg/Kg)                  0\n",
       " Zn total ER (mg/Kg)                  0\n",
       "dtype: int64"
      ]
     },
     "execution_count": 123,
     "metadata": {},
     "output_type": "execute_result"
    }
   ],
   "source": [
    "df.isna().sum()"
   ]
  },
  {
   "cell_type": "code",
   "execution_count": 2,
   "id": "276ae91f-2723-46f1-a070-958263fcd1c9",
   "metadata": {},
   "outputs": [
    {
     "ename": "NameError",
     "evalue": "name 'df' is not defined",
     "output_type": "error",
     "traceback": [
      "\u001b[0;31m---------------------------------------------------------------------------\u001b[0m",
      "\u001b[0;31mNameError\u001b[0m                                 Traceback (most recent call last)",
      "Cell \u001b[0;32mIn[2], line 1\u001b[0m\n\u001b[0;32m----> 1\u001b[0m df\u001b[38;5;241m.\u001b[39mNature\u001b[38;5;241m.\u001b[39munique(), df[\u001b[38;5;124m\"\u001b[39m\u001b[38;5;124mDate de prélèvement\u001b[39m\u001b[38;5;124m\"\u001b[39m]\u001b[38;5;241m.\u001b[39munique(), df[\u001b[38;5;124m\"\u001b[39m\u001b[38;5;124mExploitant - parcelle\u001b[39m\u001b[38;5;124m\"\u001b[39m]\u001b[38;5;241m.\u001b[39munique()\n",
      "\u001b[0;31mNameError\u001b[0m: name 'df' is not defined"
     ]
    }
   ],
   "source": [
    "df.Nature.unique(), df[\"Date de prélèvement\"].unique(), df[\"Exploitant - parcelle\"].unique()"
   ]
  },
  {
   "cell_type": "markdown",
   "id": "0b63dd69-2f53-43d6-a0dc-d77ed136839c",
   "metadata": {},
   "source": [
    "#### Modifications des lignes ou colonnes"
   ]
  },
  {
   "cell_type": "code",
   "execution_count": 128,
   "id": "60342b48-663c-47e7-9402-26775b45d35e",
   "metadata": {},
   "outputs": [
    {
     "data": {
      "text/plain": [
       "Index(['N° Laboratoire', 'Réf échantillon', 'N° FR', 'Exploitant - parcelle',\n",
       "       'Date de prélèvement', 'Nature', ' Argile (déc) (o/oo) g/kg ',\n",
       "       ' Limon Fin (déc) (o/oo) g/kg ', ' Limon Grossier (déc) (o/oo) g/kg ',\n",
       "       ' Sable Fin (déc) (o/oo) g/kg ', ' Sable Grossier (déc) (o/oo) g/kg ',\n",
       "       ' pH eau - ', ' Carbonates totaux g/kg ',\n",
       "       ' Carb. organique (o/oo) g/kg ', ' Matière organique (o/oo) g/kg ',\n",
       "       ' Azote total (o/oo) g/kg ', ' C/N - ', ' P2O5 Olsen (o/oo) g/kg ',\n",
       "       ' Cu DTPA mg/kg ', ' Zn DTPA mg/kg ', ' Ni DTPA mg/kg ',\n",
       "       ' Cu total ER (mg/Kg) ', ' Ni total ER (mg/Kg) ',\n",
       "       ' Pb total ER (mg/Kg) ', ' Zn total ER (mg/Kg) '],\n",
       "      dtype='object')"
      ]
     },
     "execution_count": 128,
     "metadata": {},
     "output_type": "execute_result"
    }
   ],
   "source": [
    "df.columns"
   ]
  },
  {
   "cell_type": "code",
   "execution_count": 130,
   "id": "84599641-f76f-4dba-8e91-36c47d89cd58",
   "metadata": {},
   "outputs": [],
   "source": [
    "# Supprimer des colonnes\n",
    "\n",
    "df.drop(columns = \"Nature\",inplace = True)\n",
    "df.drop(columns = \"Date de prélèvement\",inplace = True)\n",
    "df.drop(columns = \"Exploitant - parcelle\",inplace = True)"
   ]
  },
  {
   "cell_type": "code",
   "execution_count": 133,
   "id": "59b90ebf-c7a6-48a6-a00e-cd172160e830",
   "metadata": {},
   "outputs": [
    {
     "data": {
      "text/html": [
       "<div>\n",
       "<style scoped>\n",
       "    .dataframe tbody tr th:only-of-type {\n",
       "        vertical-align: middle;\n",
       "    }\n",
       "\n",
       "    .dataframe tbody tr th {\n",
       "        vertical-align: top;\n",
       "    }\n",
       "\n",
       "    .dataframe thead th {\n",
       "        text-align: right;\n",
       "    }\n",
       "</style>\n",
       "<table border=\"1\" class=\"dataframe\">\n",
       "  <thead>\n",
       "    <tr style=\"text-align: right;\">\n",
       "      <th></th>\n",
       "      <th>N° Laboratoire</th>\n",
       "      <th>Réf échantillon</th>\n",
       "      <th>N° FR</th>\n",
       "      <th>Argile (déc) (o/oo) g/kg</th>\n",
       "      <th>Limon Fin (déc) (o/oo) g/kg</th>\n",
       "      <th>Limon Grossier (déc) (o/oo) g/kg</th>\n",
       "      <th>Sable Fin (déc) (o/oo) g/kg</th>\n",
       "      <th>Sable Grossier (déc) (o/oo) g/kg</th>\n",
       "      <th>pH eau -</th>\n",
       "      <th>Carbonates totaux g/kg</th>\n",
       "      <th>...</th>\n",
       "      <th>Azote total (o/oo) g/kg</th>\n",
       "      <th>C/N -</th>\n",
       "      <th>P2O5 Olsen (o/oo) g/kg</th>\n",
       "      <th>Cu DTPA mg/kg</th>\n",
       "      <th>Zn DTPA mg/kg</th>\n",
       "      <th>Ni DTPA mg/kg</th>\n",
       "      <th>Cu total ER (mg/Kg)</th>\n",
       "      <th>Ni total ER (mg/Kg)</th>\n",
       "      <th>Pb total ER (mg/Kg)</th>\n",
       "      <th>Zn total ER (mg/Kg)</th>\n",
       "    </tr>\n",
       "  </thead>\n",
       "  <tbody>\n",
       "    <tr>\n",
       "      <th>0</th>\n",
       "      <td>T-02540-24</td>\n",
       "      <td>EvEx_03Gal</td>\n",
       "      <td>WW 848033</td>\n",
       "      <td>557</td>\n",
       "      <td>189.0</td>\n",
       "      <td>104.0</td>\n",
       "      <td>91.3</td>\n",
       "      <td>58.8</td>\n",
       "      <td>8.3</td>\n",
       "      <td>225.0</td>\n",
       "      <td>...</td>\n",
       "      <td>2.3</td>\n",
       "      <td>13.9</td>\n",
       "      <td>0.026</td>\n",
       "      <td>13.1</td>\n",
       "      <td>4.7</td>\n",
       "      <td>0.37</td>\n",
       "      <td>71.2</td>\n",
       "      <td>26.2</td>\n",
       "      <td>44.9</td>\n",
       "      <td>109.0</td>\n",
       "    </tr>\n",
       "    <tr>\n",
       "      <th>1</th>\n",
       "      <td>T-02541-24</td>\n",
       "      <td>EvEx_04Mou</td>\n",
       "      <td>WW 848035</td>\n",
       "      <td>362</td>\n",
       "      <td>123.0</td>\n",
       "      <td>125.0</td>\n",
       "      <td>196.0</td>\n",
       "      <td>194.0</td>\n",
       "      <td>8.3</td>\n",
       "      <td>101.0</td>\n",
       "      <td>...</td>\n",
       "      <td>1.2</td>\n",
       "      <td>12.9</td>\n",
       "      <td>0.057</td>\n",
       "      <td>5.6</td>\n",
       "      <td>2.9</td>\n",
       "      <td>0.89</td>\n",
       "      <td>38.4</td>\n",
       "      <td>79.6</td>\n",
       "      <td>36.1</td>\n",
       "      <td>91.4</td>\n",
       "    </tr>\n",
       "    <tr>\n",
       "      <th>2</th>\n",
       "      <td>T-02542-24</td>\n",
       "      <td>EvEx_05Mou</td>\n",
       "      <td>WW 848037</td>\n",
       "      <td>205</td>\n",
       "      <td>116.0</td>\n",
       "      <td>125.0</td>\n",
       "      <td>245.0</td>\n",
       "      <td>309.0</td>\n",
       "      <td>8.1</td>\n",
       "      <td>94.4</td>\n",
       "      <td>...</td>\n",
       "      <td>1.7</td>\n",
       "      <td>12.1</td>\n",
       "      <td>0.095</td>\n",
       "      <td>3.3</td>\n",
       "      <td>9.5</td>\n",
       "      <td>0.69</td>\n",
       "      <td>31.4</td>\n",
       "      <td>61.3</td>\n",
       "      <td>70.7</td>\n",
       "      <td>122.0</td>\n",
       "    </tr>\n",
       "    <tr>\n",
       "      <th>3</th>\n",
       "      <td>T-02543-24</td>\n",
       "      <td>EvEx_06Lou</td>\n",
       "      <td>WW 848039</td>\n",
       "      <td>405</td>\n",
       "      <td>135.0</td>\n",
       "      <td>130.0</td>\n",
       "      <td>253.0</td>\n",
       "      <td>77.6</td>\n",
       "      <td>8.5</td>\n",
       "      <td>207.0</td>\n",
       "      <td>...</td>\n",
       "      <td>1.1</td>\n",
       "      <td>13.7</td>\n",
       "      <td>0.027</td>\n",
       "      <td>16.4</td>\n",
       "      <td>3.2</td>\n",
       "      <td>0.26</td>\n",
       "      <td>70.3</td>\n",
       "      <td>29.1</td>\n",
       "      <td>47.6</td>\n",
       "      <td>77.0</td>\n",
       "    </tr>\n",
       "    <tr>\n",
       "      <th>4</th>\n",
       "      <td>T-02544-24</td>\n",
       "      <td>EvEx_07Lou</td>\n",
       "      <td>WW 848041</td>\n",
       "      <td>431</td>\n",
       "      <td>135.0</td>\n",
       "      <td>128.0</td>\n",
       "      <td>253.0</td>\n",
       "      <td>54.0</td>\n",
       "      <td>8.4</td>\n",
       "      <td>156.0</td>\n",
       "      <td>...</td>\n",
       "      <td>1.0</td>\n",
       "      <td>13.2</td>\n",
       "      <td>0.058</td>\n",
       "      <td>16.6</td>\n",
       "      <td>3.1</td>\n",
       "      <td>0.16</td>\n",
       "      <td>77.1</td>\n",
       "      <td>33.6</td>\n",
       "      <td>52.0</td>\n",
       "      <td>85.5</td>\n",
       "    </tr>\n",
       "  </tbody>\n",
       "</table>\n",
       "<p>5 rows × 22 columns</p>\n",
       "</div>"
      ],
      "text/plain": [
       "  N° Laboratoire Réf échantillon      N° FR   Argile (déc) (o/oo) g/kg   \\\n",
       "0     T-02540-24      EvEx_03Gal  WW 848033                         557   \n",
       "1     T-02541-24      EvEx_04Mou  WW 848035                         362   \n",
       "2     T-02542-24      EvEx_05Mou  WW 848037                         205   \n",
       "3     T-02543-24      EvEx_06Lou  WW 848039                         405   \n",
       "4     T-02544-24      EvEx_07Lou  WW 848041                         431   \n",
       "\n",
       "    Limon Fin (déc) (o/oo) g/kg    Limon Grossier (déc) (o/oo) g/kg   \\\n",
       "0                          189.0                               104.0   \n",
       "1                          123.0                               125.0   \n",
       "2                          116.0                               125.0   \n",
       "3                          135.0                               130.0   \n",
       "4                          135.0                               128.0   \n",
       "\n",
       "    Sable Fin (déc) (o/oo) g/kg    Sable Grossier (déc) (o/oo) g/kg   \\\n",
       "0                           91.3                                58.8   \n",
       "1                          196.0                               194.0   \n",
       "2                          245.0                               309.0   \n",
       "3                          253.0                                77.6   \n",
       "4                          253.0                                54.0   \n",
       "\n",
       "    pH eau -    Carbonates totaux g/kg   ...   Azote total (o/oo) g/kg   \\\n",
       "0         8.3                     225.0  ...                        2.3   \n",
       "1         8.3                     101.0  ...                        1.2   \n",
       "2         8.1                      94.4  ...                        1.7   \n",
       "3         8.5                     207.0  ...                        1.1   \n",
       "4         8.4                     156.0  ...                        1.0   \n",
       "\n",
       "    C/N -    P2O5 Olsen (o/oo) g/kg    Cu DTPA mg/kg    Zn DTPA mg/kg   \\\n",
       "0     13.9                     0.026             13.1              4.7   \n",
       "1     12.9                     0.057              5.6              2.9   \n",
       "2     12.1                     0.095              3.3              9.5   \n",
       "3     13.7                     0.027             16.4              3.2   \n",
       "4     13.2                     0.058             16.6              3.1   \n",
       "\n",
       "    Ni DTPA mg/kg    Cu total ER (mg/Kg)    Ni total ER (mg/Kg)   \\\n",
       "0             0.37                   71.2                   26.2   \n",
       "1             0.89                   38.4                   79.6   \n",
       "2             0.69                   31.4                   61.3   \n",
       "3             0.26                   70.3                   29.1   \n",
       "4             0.16                   77.1                   33.6   \n",
       "\n",
       "    Pb total ER (mg/Kg)    Zn total ER (mg/Kg)   \n",
       "0                   44.9                  109.0  \n",
       "1                   36.1                   91.4  \n",
       "2                   70.7                  122.0  \n",
       "3                   47.6                   77.0  \n",
       "4                   52.0                   85.5  \n",
       "\n",
       "[5 rows x 22 columns]"
      ]
     },
     "execution_count": 133,
     "metadata": {},
     "output_type": "execute_result"
    }
   ],
   "source": [
    "df.head()"
   ]
  },
  {
   "cell_type": "code",
   "execution_count": 135,
   "id": "9923f5ce-d7a9-4c1f-90d8-819327de5b05",
   "metadata": {},
   "outputs": [],
   "source": [
    "df.to_excel('analyse_de_terre.xlsx', index=False)"
   ]
  },
  {
   "cell_type": "code",
   "execution_count": null,
   "id": "e51cf53a-1343-4117-9e18-a629e7ee0f51",
   "metadata": {},
   "outputs": [],
   "source": []
  }
 ],
 "metadata": {
  "kernelspec": {
   "display_name": "Python 3 (ipykernel)",
   "language": "python",
   "name": "python3"
  },
  "language_info": {
   "codemirror_mode": {
    "name": "ipython",
    "version": 3
   },
   "file_extension": ".py",
   "mimetype": "text/x-python",
   "name": "python",
   "nbconvert_exporter": "python",
   "pygments_lexer": "ipython3",
   "version": "3.12.4"
  }
 },
 "nbformat": 4,
 "nbformat_minor": 5
}
